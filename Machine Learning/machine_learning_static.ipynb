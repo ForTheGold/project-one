{
 "cells": [
  {
   "cell_type": "code",
   "execution_count": null,
   "metadata": {},
   "outputs": [],
   "source": [
    "import csv\n",
    "import random\n",
    "import nltk\n",
    "from nltk.tokenize import RegexpTokenizer"
   ]
  },
  {
   "cell_type": "code",
   "execution_count": null,
   "metadata": {},
   "outputs": [],
   "source": [
    "# read and store the file in a list, remove the header\n",
    "data = []\n",
    "with open('2000reviews.csv') as f:\n",
    "    reader = csv.reader(f, delimiter=',')\n",
    "    for i in reader:\n",
    "        data.append(i)\n",
    "f.close()"
   ]
  },
  {
   "cell_type": "code",
   "execution_count": null,
   "metadata": {},
   "outputs": [],
   "source": [
    "tokenizer = RegexpTokenizer(r'\\w+')"
   ]
  },
  {
   "cell_type": "code",
   "execution_count": null,
   "metadata": {},
   "outputs": [],
   "source": [
    "# Make two lists of positive and negative reviews\n",
    "# Normalize to lowercase, tokenize and remove stopwords\n",
    "# Append as a tuple with tags\n",
    "\n",
    "positive = []\n",
    "negative = []\n",
    "\n",
    "for i in data:\n",
    "    if i[1] == 'pos':\n",
    "        tokens = tokenizer.tokenize(i[0])\n",
    "        positive.append((tokens, 'pos'))\n",
    "        \n",
    "    else:\n",
    "        tokens = tokenizer.tokenize(i[0])\n",
    "        positive.append((tokens, 'neg'))"
   ]
  },
  {
   "cell_type": "code",
   "execution_count": null,
   "metadata": {},
   "outputs": [],
   "source": [
    "labeled_reviews = positive + negative\n",
    "random.shuffle(labeled_reviews)\n",
    "labeled_reviews"
   ]
  },
  {
   "cell_type": "code",
   "execution_count": null,
   "metadata": {},
   "outputs": [],
   "source": [
    "all_words = []\n",
    "for review in labeled_reviews:\n",
    "    for word in review[0]:\n",
    "        all_words.append(word)\n",
    "all_words"
   ]
  },
  {
   "cell_type": "code",
   "execution_count": null,
   "metadata": {},
   "outputs": [],
   "source": [
    "all_words = nltk.FreqDist(all_words)\n",
    "word_features = list(all_words.keys())[:3000]\n",
    "word_features"
   ]
  },
  {
   "cell_type": "code",
   "execution_count": null,
   "metadata": {},
   "outputs": [],
   "source": [
    "def find_features(document):\n",
    "\tfeatures = {}\n",
    "\tfor w in word_features:\n",
    "\t\tfeatures[w] = (w in document[0])\n",
    "\treturn features\n",
    "\n",
    "featuresets = [(find_features(reviews), category) for (reviews, category) in labeled_reviews]"
   ]
  },
  {
   "cell_type": "code",
   "execution_count": null,
   "metadata": {},
   "outputs": [],
   "source": [
    "featuresets"
   ]
  },
  {
   "cell_type": "code",
   "execution_count": null,
   "metadata": {},
   "outputs": [],
   "source": [
    "type(featuresets)"
   ]
  },
  {
   "cell_type": "code",
   "execution_count": null,
   "metadata": {},
   "outputs": [],
   "source": [
    "# 70% to train, 30% to test\n",
    "training_percent = int(len(featuresets)*.7)\n",
    "training_set = featuresets[:training_percent]\n",
    "testing_set = featuresets[training_percent:]"
   ]
  },
  {
   "cell_type": "code",
   "execution_count": null,
   "metadata": {},
   "outputs": [],
   "source": [
    "# Using Naive Bayes Classifier and Printing Accuracy\n",
    "classifier = nltk.NaiveBayesClassifier.train(training_set)\n",
    "print(\"Accuracy: \", round((nltk.classify.accuracy(classifier, testing_set) * 100), 2), \"%\")"
   ]
  },
  {
   "cell_type": "code",
   "execution_count": null,
   "metadata": {},
   "outputs": [],
   "source": [
    "# Most informative features\n",
    "classifier.show_most_informative_features(100)"
   ]
  },
  {
   "cell_type": "code",
   "execution_count": null,
   "metadata": {},
   "outputs": [],
   "source": [
    "features = classifier.most_informative_features(100)"
   ]
  },
  {
   "cell_type": "code",
   "execution_count": null,
   "metadata": {},
   "outputs": [],
   "source": [
    "features"
   ]
  },
  {
   "cell_type": "code",
   "execution_count": null,
   "metadata": {},
   "outputs": [],
   "source": [
    "probability = classifier.prob_classify(featuresets[0][0])\n",
    "probability"
   ]
  },
  {
   "cell_type": "code",
   "execution_count": null,
   "metadata": {},
   "outputs": [],
   "source": [
    "def make_feature_set(review):\n",
    "    tokens = tokenizer.tokenize(review.lower())\n",
    "    features = {}\n",
    "    for word in word_features:\n",
    "        features[word] = (word in tokens)\n",
    "    return features"
   ]
  },
  {
   "cell_type": "code",
   "execution_count": null,
   "metadata": {},
   "outputs": [],
   "source": [
    "negative_review = \"This is a terrible product.  I hate it.  Never buy it.  It is the worst flavor I have ever experienced\"\n",
    "classifier.classify(make_feature_set(negative_review))"
   ]
  },
  {
   "cell_type": "code",
   "execution_count": null,
   "metadata": {},
   "outputs": [],
   "source": [
    "positive_review = \"This is a wonderful product.  Absolutely delicious.  Excellent.  I love it!\"\n",
    "classifier.classify(find_features(positive_review))"
   ]
  },
  {
   "cell_type": "code",
   "execution_count": null,
   "metadata": {},
   "outputs": [],
   "source": [
    "classifier.classify(find_features(\"DATA GOES HERE\").lower())"
   ]
  }
 ],
 "metadata": {
  "kernelspec": {
   "display_name": "Python 3",
   "language": "python",
   "name": "python3"
  },
  "language_info": {
   "codemirror_mode": {
    "name": "ipython",
    "version": 3
   },
   "file_extension": ".py",
   "mimetype": "text/x-python",
   "name": "python",
   "nbconvert_exporter": "python",
   "pygments_lexer": "ipython3",
   "version": "3.7.9"
  }
 },
 "nbformat": 4,
 "nbformat_minor": 4
}
