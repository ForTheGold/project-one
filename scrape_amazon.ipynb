{
 "cells": [
  {
   "cell_type": "code",
   "execution_count": 39,
   "metadata": {},
   "outputs": [],
   "source": [
    "import requests\n",
    "from bs4 import BeautifulSoup\n",
    "import csv\n",
    "import re"
   ]
  },
  {
   "cell_type": "code",
   "execution_count": 40,
   "metadata": {},
   "outputs": [],
   "source": [
    "headers = ({'User-Agent':\n",
    "            'Mozilla/5.0 (X11; Linux x86_64) AppleWebKit/537.36 (KHTML, like Gecko) Chrome/44.0.2403.157 Safari/537.36',\n",
    "            'Accept-Language': 'en-US, en;q=0.5'})\n",
    "urls = [\"https://www.amazon.com/product-reviews/B084NF3NHR/ref=acr_dp_hist_5?ie=UTF8&filterByStar=five_star&reviewerType=all_reviews#reviews-filter-bar\",\n",
    "       \"https://www.amazon.com/product-reviews/B084NF3NHR/ref=acr_dp_hist_1?ie=UTF8&filterByStar=one_star&reviewerType=all_reviews#reviews-filter-bar\"]"
   ]
  },
  {
   "cell_type": "code",
   "execution_count": 47,
   "metadata": {},
   "outputs": [],
   "source": [
    "def scrape_amazon(url, headers):\n",
    "    page = requests.get(url, headers=headers)\n",
    "    soup = BeautifulSoup(page.content, 'html.parser')\n",
    "    \n",
    "    product_name = soup.find('a', {'class': 'a-link-normal', 'data-hook':'product-link'}).get_text()\n",
    "    brand_name = soup.find('a', class_='a-size-base a-link-normal').get_text()\n",
    "    \n",
    "    \n",
    "    comments = soup.find_all('span', class_=\"a-size-base review-text review-text-content\")\n",
    "    clean_comments = [comment.span.get_text().strip() for comment in comments]\n",
    "    \n",
    "    rating = soup.find_all('span', class_='a-icon-alt')\n",
    "    if int(rating[10].get_text()[0]) > 3:\n",
    "        rating = 5\n",
    "    else:\n",
    "        rating = 1\n",
    "\n",
    "    file_name = brand_name.replace(\" \",\"\") + str(rating) + \"StarRatings.csv\"\n",
    "    \n",
    "    with open(file_name, 'w', newline='') as f:\n",
    "        writer = csv.writer(f)\n",
    "        \n",
    "        writer.writerow([brand_name])\n",
    "        writer.writerow([product_name])\n",
    "        writer.writerow([rating])\n",
    "        \n",
    "        for line in clean_comments:\n",
    "            writer.writerow([line])\n",
    "    \n",
    "    f.close()"
   ]
  },
  {
   "cell_type": "code",
   "execution_count": 48,
   "metadata": {},
   "outputs": [],
   "source": [
    "for url in urls:\n",
    "    scrape_amazon(url, headers)"
   ]
  }
 ],
 "metadata": {
  "kernelspec": {
   "display_name": "Python 3",
   "language": "python",
   "name": "python3"
  },
  "language_info": {
   "codemirror_mode": {
    "name": "ipython",
    "version": 3
   },
   "file_extension": ".py",
   "mimetype": "text/x-python",
   "name": "python",
   "nbconvert_exporter": "python",
   "pygments_lexer": "ipython3",
   "version": "3.7.9"
  }
 },
 "nbformat": 4,
 "nbformat_minor": 4
}
