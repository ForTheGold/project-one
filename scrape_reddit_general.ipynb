{
 "cells": [
  {
   "cell_type": "code",
   "execution_count": 1,
   "metadata": {},
   "outputs": [],
   "source": [
    "import requests\n",
    "from bs4 import BeautifulSoup\n",
    "import csv\n",
    "import re"
   ]
  },
  {
   "cell_type": "code",
   "execution_count": 2,
   "metadata": {},
   "outputs": [],
   "source": [
    "headers = {'User-Agent': 'Mozilla/5.0'}\n",
    "urls = [\"https://www.reddit.com/r/DebateAVegan/comments/6xtq3v/fake_meat_products/\",\n",
    "       \"https://www.reddit.com/r/vegan/comments/7s81qn/how_do_you_feel_about_fake_meat/\",\n",
    "       \"https://www.reddit.com/r/vegetarian/comments/1fpvwv/best_fake_meat/\",\n",
    "       \"https://www.reddit.com/r/vegetarian/comments/5oqulb/what_are_your_favorite_faux_meat_products_and_why/\",\n",
    "       \"https://www.reddit.com/r/vegetarian/comments/a1u03x/any_other_vegetarians_dislike_fake_meat_products/\",\n",
    "       \"https://www.reddit.com/r/unpopularopinion/comments/kdmtmx/fake_meat_is_dumb/\"]"
   ]
  },
  {
   "cell_type": "code",
   "execution_count": 4,
   "metadata": {},
   "outputs": [],
   "source": [
    "def scrape_reddit(url, headers):\n",
    "    page = requests.get(url, headers=headers)\n",
    "    soup = BeautifulSoup(page.content, 'html.parser')\n",
    "    \n",
    "    comments = soup.find_all('p')\n",
    "    clean_comments = [comment.get_text() for comment in comments if len(comment.get_text().split()) > 2]\n",
    "    \n",
    "    title = soup.find(\"h1\").get_text()\n",
    "    title = re.sub(\"[^a-zA-Z]+\", \"\", title) + \".csv\"\n",
    "    \n",
    "    with open(title, 'w', newline='') as f:\n",
    "        writer = csv.writer(f)\n",
    "        for line in clean_comments:\n",
    "            writer.writerow([line])\n",
    "    \n",
    "    f.close()"
   ]
  },
  {
   "cell_type": "code",
   "execution_count": null,
   "metadata": {},
   "outputs": [],
   "source": [
    "for url in urls:\n",
    "    scrape()"
   ]
  }
 ],
 "metadata": {
  "kernelspec": {
   "display_name": "Python 3",
   "language": "python",
   "name": "python3"
  },
  "language_info": {
   "codemirror_mode": {
    "name": "ipython",
    "version": 3
   },
   "file_extension": ".py",
   "mimetype": "text/x-python",
   "name": "python",
   "nbconvert_exporter": "python",
   "pygments_lexer": "ipython3",
   "version": "3.7.9"
  }
 },
 "nbformat": 4,
 "nbformat_minor": 4
}
