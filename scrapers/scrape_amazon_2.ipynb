{
 "cells": [
  {
   "cell_type": "code",
   "execution_count": 40,
   "metadata": {},
   "outputs": [],
   "source": [
    "import requests\n",
    "from bs4 import BeautifulSoup\n",
    "import time\n",
    "import csv\n",
    "import re\n",
    "import sqlite3\n",
    "import os"
   ]
  },
  {
   "cell_type": "code",
   "execution_count": 41,
   "metadata": {},
   "outputs": [],
   "source": [
    "# headers = ({'User-Agent':\n",
    "#             'Mozilla/5.0 (X11; Linux x86_64) AppleWebKit/537.36 (KHTML, like Gecko) Chrome/44.0.2403.157 Safari/537.36',\n",
    "#             'Accept-Language': 'en-US, en;q=0.5'})\n",
    "headers = {\"User-Agent\":\"Mozilla/5.0 (Windows NT 10.0; Win64; x64; rv:66.0) Gecko/20100101 Firefox/66.0\", \n",
    "           \"Accept-Encoding\":\"gzip, deflate\", \n",
    "           \"Accept\":\"text/html,application/xhtml+xml,application/xml;q=0.9,*/*;q=0.8\", \n",
    "           \"DNT\":\"1\",\"Connection\":\"close\", \n",
    "           \"Upgrade-Insecure-Requests\":\"1\"}\n",
    "main_page_urls = [\"https://www.amazon.com/Beyond-Meat-Beef-16-Ounce/dp/B07R6TRHQ2/\"]"
   ]
  },
  {
   "cell_type": "code",
   "execution_count": 45,
   "metadata": {},
   "outputs": [],
   "source": [
    "def scrape_reviews(main_page_url, headers):\n",
    "    main_page = requests.get(main_page_url, headers=headers)\n",
    "    main_page_soup = BeautifulSoup(main_page.content, 'html.parser')\n",
    "    time.sleep(2)\n",
    "\n",
    "    data = []\n",
    "    \n",
    "    try:\n",
    "        product_name = main_page_soup.find('span', {'id': 'productTitle'}).get_text().strip()\n",
    "    except:\n",
    "        product_name = \"\"\n",
    "        \n",
    "    try:\n",
    "        brand_name = main_page_soup.find('a', {'id': 'bylineInfo'}).get_text().strip()[7:]\n",
    "    except:\n",
    "        brand_name = \"\"\n",
    "    \n",
    "    try:\n",
    "        price = main_page_soup.find('span', {'class': 'priceBlockBuyingPriceString'}).get_text().strip()[1:]\n",
    "    except:\n",
    "        price = \"\"\n",
    "        \n",
    "    try:\n",
    "        asin = main_page_soup.find('ul', {'class': 'detail-bullet-list'}).findAll('li')[4].findAll('span')[2].get_text()\n",
    "    except:\n",
    "        asin = \"\"\n",
    "    \n",
    "    try:\n",
    "        overall_rating = main_page_soup.find('span', {'data-hook': 'rating-out-of-text'}).get_text()[:3]\n",
    "    except:\n",
    "        overall_rating = \"\"\n",
    "    \n",
    "    review_url_base = main_page_url[:-1].replace(\"dp\", \"product-reviews\") + \"?ie=UTF8&reviewerType=all_reviews&sortBy=recent&pageNumber=\"\n",
    "    review_urls = [review_url_base + str(i) for i in range(1, 10)]\n",
    "    \n",
    "    for review_url in review_urls:\n",
    "        review_page = requests.get(review_url, headers=headers)\n",
    "        review_page_soup = BeautifulSoup(review_page.content, 'html.parser')\n",
    "        time.sleep(2)\n",
    "        username = review_page_soup.findAll('span', {'class': 'a-profile-name'})\n",
    "        date = review_page_soup.findAll('span', {'data-hook': 'review-date'})\n",
    "        rating = review_page_soup.find_all('i', {'data-hook': 'review-star-rating'})\n",
    "        review = review_page_soup.find_all('span', {'data-hook': 'review-body'})\n",
    "        \n",
    "        for i in range(2, 8):\n",
    "            try:\n",
    "                reviewer_username = username[i].get_text()\n",
    "                review_date = date[i].get_text()[33:]\n",
    "                review_rating = rating[i].span.get_text()[:3]\n",
    "                review_text = review[i].get_text()[:-9].strip()\n",
    "\n",
    "                data.append([brand_name, product_name, asin, price, overall_rating, reviewer_username, review_date, review_rating, review_text])\n",
    "                \n",
    "            except:\n",
    "                continue\n",
    "    return data"
   ]
  },
  {
   "cell_type": "code",
   "execution_count": 46,
   "metadata": {},
   "outputs": [],
   "source": [
    "def write_to_db(data):\n",
    "    conn = sqlite3.connect(\"reviewdb.db\")\n",
    "    c = conn.cursor()\n",
    "    c.execute(\"\"\"CREATE TABLE IF NOT EXISTS scraped_reviews ('brand_name', 'product_name', 'asin', 'price', 'overall_rating', 'reviewer_username', 'review_date', 'review_rating', 'review_text')\"\"\")\n",
    "    \n",
    "    for entry in data:\n",
    "        c.execute(\"INSERT INTO scraped_reviews ('brand_name', 'product_name', 'asin', 'price', 'overall_rating', 'reviewer_username', 'review_date', 'review_rating', 'review_text') VALUES (?, ?, ?, ?, ?, ?, ?, ?, ?)\", \n",
    "                  (entry[0], entry[1], entry[2], entry[3], entry[4], entry[5], entry[6], entry[7], entry[8]))\n",
    "        \n",
    "    conn.commit()\n",
    "    conn.close()"
   ]
  },
  {
   "cell_type": "code",
   "execution_count": 47,
   "metadata": {},
   "outputs": [],
   "source": [
    "for main_page_url in main_page_urls:\n",
    "    data = scrape_reviews(main_page_url, headers)\n",
    "    write_to_db(data)"
   ]
  },
  {
   "cell_type": "code",
   "execution_count": 49,
   "metadata": {},
   "outputs": [
    {
     "name": "stdout",
     "output_type": "stream",
     "text": [
      "[('Beyond Meat', 'Beyond Meat from PlantBased Frozen oz lb. Package, Ground Beef Substitute, 16 Ounce', '', '10.49', '4.6', 'enthuz', 'June 9, 2021', '1.0', 'Toxic chemical plant'), ('Beyond Meat', 'Beyond Meat from PlantBased Frozen oz lb. Package, Ground Beef Substitute, 16 Ounce', '', '10.49', '4.6', 'Irish Rogue', 'June 5, 2021', '5.0', 'Great taste better th'), ('Beyond Meat', 'Beyond Meat from PlantBased Frozen oz lb. Package, Ground Beef Substitute, 16 Ounce', '', '10.49', '4.6', 'Walter White', 'May 27, 2021', '5.0', \"For recipes like dirty rice, spaghetti, or sloppy Joe's I use Beyond. For actual burgers, I like Impossible better. This makes a better crumble. But it's so gross to cook. It goes from brown to blood red. All that heme protein is kind of creepy. But the taste is nice. The texture is OK. But really take my advice and cook this IN stuff as opposed to using it for b\"), ('Beyond Meat', 'Beyond Meat from PlantBased Frozen oz lb. Package, Ground Beef Substitute, 16 Ounce', '', '10.49', '4.6', 'Nyc DogWalker', 'May 22, 2021', '1.0', \"This is the second time in a number of months that I've ordered this product, advertised as frozen, but it's come just chilled and soft.  The plan had been to put it directly into the freezer for next weekend; however, you cannot -re-freeze it (says so right on the package), so I am stuck with veggie burger material for grandkids a week before they come for burgers.  Amazon did promptly refund, but that doesn't solve my p\"), ('Beyond Meat', 'Beyond Meat from PlantBased Frozen oz lb. Package, Ground Beef Substitute, 16 Ounce', '', '10.49', '4.6', 'Bye Felicia', 'May 20, 2021', '5.0', 'We liked and enjoyed the beyond ground beef substitute a lot ! Healthy and'), ('Beyond Meat', 'Beyond Meat from PlantBased Frozen oz lb. Package, Ground Beef Substitute, 16 Ounce', '', '10.49', '4.6', 'Ms. B.', 'May 19, 2021', '5.0', 'Fabulous tast'), ('Beyond Meat', 'Beyond Meat from PlantBased Frozen oz lb. Package, Ground Beef Substitute, 16 Ounce', '', '10.49', '4.6', 'Artist and Designer', 'May 11, 2021', '1.0', 'I like the impossible meat and thought this would be comparable. While cooking it my husband asked me what the smell was. Once we ate we confirmed it tasted as bed as it s'), ('Beyond Meat', 'Beyond Meat from PlantBased Frozen oz lb. Package, Ground Beef Substitute, 16 Ounce', '', '10.49', '4.6', 'leighfabozzi', 'May 10, 2021', '1.0', 'I have tried their burgers and ground \"meat\". They both have this distinct flavor( it is not a pleasant one), they kinda taste the way they smell. Also they were very oily. I did not like they at all ( i am a meat eater).  My mom jas been pescatarian for 20+yrs and she loves their products ( agrees with the oiliness).  So it up'), ('Beyond Meat', 'Beyond Meat from PlantBased Frozen oz lb. Package, Ground Beef Substitute, 16 Ounce', '', '10.49', '4.6', 'Sponce', 'May 9, 2021', '4.0', 'Not as flavorful as the Beyond Burgers but good If seasoned Ala BBQ sauce or taco'), ('Beyond Meat', 'Beyond Meat from PlantBased Frozen oz lb. Package, Ground Beef Substitute, 16 Ounce', '', '10.49', '4.6', 'Sonte T', 'May 2, 2021', '1.0', 'Only for fanatics who crave tasteless off fake meats. Don’t believe the hype. Just awful. Maybe better in the'), ('Beyond Meat', 'Beyond Meat from PlantBased Frozen oz lb. Package, Ground Beef Substitute, 16 Ounce', '', '10.49', '4.6', 'kmix', 'May 2, 2021', '3.0', \"It was good-ish. Didn't meet my expectations. I thought it would taste more like the burger king beyond whopper... It didn't. I can see where if a vegan or vegetarian wanted a big burger, this would definitely hit th\"), ('Beyond Meat', 'Beyond Meat from PlantBased Frozen oz lb. Package, Ground Beef Substitute, 16 Ounce', '', '10.49', '4.6', 'annegrete', 'April 25, 2021', '2.0', 'I came here because I smelled catfood every time I used it and I am SO glad that I\\'m not the only one. The texture and flavor is not like real meat. I was thinking it might be like the impossible burger, which I actually do think is a pleasurable meat substitute.I made a burger, some tacos, and meatballs. each time I used it, I found myself being more and more liberal with the seasoning, as the flavor of the product by itself was not as good as I was hoping. It seems like this will work fine in dishes where the \"meat\" isn\\'t the main star.I don\\'t think it\\'s terrible, but I won\\'t be buying it again. Hoping for a great substitute for meat one day, and it seems like we are working in the right direction, but it\\'s not the'), ('Beyond Meat', 'Beyond Meat from PlantBased Frozen oz lb. Package, Ground Beef Substitute, 16 Ounce', '', '10.49', '4.6', 'Suelenn Mendes Pereira Roza', 'March 31, 2021', '4.0', 'Good substitute if looking for so'), ('Beyond Meat', 'Beyond Meat from PlantBased Frozen oz lb. Package, Ground Beef Substitute, 16 Ounce', '', '10.49', '4.6', 'Ahn Medek', 'March 30, 2021', '1.0', 'What. The. Ew.That funky smell, that funky taste. It permeates everything. It’s so gross.I usually make my meatballs with half ground beef, half sweet Italian chicken sausage. This time I substituted just the beef for beyond beef. So you would think that with the other half of the recipe unchanged, the effect would be mitigated.NOPE. Never'), ('Beyond Meat', 'Beyond Meat from PlantBased Frozen oz lb. Package, Ground Beef Substitute, 16 Ounce', '', '10.49', '4.6', 'BTC', 'March 23, 2021', '5.0', 'Well I cannot write enough about this product. It tastes like meat, cooks like meat and actually it tastes better than meat. I love cooking with it and have a ritual beyond burger night and the best thing is it does not have soy, which seems to be in everything these days. So definitely I do recommend you at least try it because it is the best non-meat out'), ('Beyond Meat', 'Beyond Meat from PlantBased Frozen oz lb. Package, Ground Beef Substitute, 16 Ounce', '', '10.49', '4.6', 'L Duffy', 'March 22, 2021', '5.0', 'This is del'), ('Beyond Meat', 'Beyond Meat from PlantBased Frozen oz lb. Package, Ground Beef Substitute, 16 Ounce', '', '10.49', '4.6', 'Chris Sheehy', 'March 22, 2021', '5.0', \"My husband was diagnosed with Prostate cancer and after doing research he decided to become Vegan. This is a great substitute for beef. He loves it and uses it in everything where he used to use ground beef. I don't like the smell of it when I open the package (smells like cat food to me) but it tastes great and is super easy to cook. I literally pull it from the package, squeeze it into four balls, pat them flat, and fry them for very easy burgers (I mean I don't add anything at all - not an egg or anything). I sometimes sprinkle my burger with Worchester sauce for flavor but it's not necessary. Taste exactly like a normal burger.  I've even made shepherds pie with this in place of lamb or beef and it taste great. Warning, these cook on lower heat and for much shorter times than actual ground beef. It can burn easily so wat\"), ('Beyond Meat', 'Beyond Meat from PlantBased Frozen oz lb. Package, Ground Beef Substitute, 16 Ounce', '', '10.49', '4.6', 'Juan', 'March 21, 2021', '1.0', 'This meat really tasted nasty..... the smell the taste it’s like eating plastic cardboard. Also you can see all the white chunks of fat they put'), ('Beyond Meat', 'Beyond Meat from PlantBased Frozen oz lb. Package, Ground Beef Substitute, 16 Ounce', '', '10.49', '4.6', 'L. Horst', 'March 8, 2021', '5.0', 'I like that I can make my own burgers than the premade ones. I can add spices. Good'), ('Beyond Meat', 'Beyond Meat from PlantBased Frozen oz lb. Package, Ground Beef Substitute, 16 Ounce', '', '10.49', '4.6', 'Marzia Aguilar', 'March 7, 2021', '5.0', 'Lil or hardly'), ('Beyond Meat', 'Beyond Meat from PlantBased Frozen oz lb. Package, Ground Beef Substitute, 16 Ounce', '', '10.49', '4.6', 'mscarmella', 'March 7, 2021', '5.0', 'Love! Love! Love! Amazing the various ways Beyond Meat can pepared and still taste like meat. Great for burgers, lasagna, etc. Even the carnivores in my family give Beyond Meat products 2 thu'), ('Beyond Meat', 'Beyond Meat from PlantBased Frozen oz lb. Package, Ground Beef Substitute, 16 Ounce', '', '10.49', '4.6', 'Christenn Harris', 'February 28, 2021', '4.0', 'I  used beyond beef to make Polish cabbage rolls… This was actually my second attempt cooking with it, the first time I made a vegan meatloaf that was so realistic I couldn’t eat it and threw the whole thing out.Several months later, I tried a second time.I’ve been vegetarian since 2004, but even the visual appearance in the packaging was offputting due to its similarity to real meat. The reddish hued block is flecked through with coconut oil “fat”. When you remove it to a bowl, it feels like ground meat. If cooking on the stove top, it shrinks and changes color as it cooks, with a very realistic texture in mouthfeel. As other reviewers have mentioned, this definitely has an odor when removing from the package, but I did not find it overly offensive.The cabbage roll filling was pleasantly toothsome, and the flavor reminded me of a fast food flame grilled burger.I definitely look forward to trying this in other uses such as meatballs and sliders in the future.As it is still a processed food, this will continue to be an occasional treat. And as one who is soy intolerant, I appreciate the fact this is one of the few soy-free options on the market.Bottom line: if you are looking to reduce your meat intake or a vegan-friendly substitute for ground beef, you might give this'), ('Beyond Meat', 'Beyond Meat from PlantBased Frozen oz lb. Package, Ground Beef Substitute, 16 Ounce', '', '10.49', '4.6', 'BSperos', 'February 27, 2021', '5.0', 'I am vegetarian but I make Indian ‘meat’ dishes with this product instead of actual meat and they taste amazing!! Both my Indian and non-Indian friends love it!! A big big hit in my social c'), ('Beyond Meat', 'Beyond Meat from PlantBased Frozen oz lb. Package, Ground Beef Substitute, 16 Ounce', '', '10.49', '4.6', 'Sarah', 'February 26, 2021', '2.0', 'Has a ton of sodium compared to raw  meat with no flavoring. This is why most people probably like it. Glorified sal'), ('Beyond Meat', 'Beyond Meat from PlantBased Frozen oz lb. Package, Ground Beef Substitute, 16 Ounce', '', '10.49', '4.6', 'Sam', 'February 17, 2021', '1.0', 'I cooked this in a frying pan for taco filling. I could not get past the smell. It was reminiscent of boiled oatmeal but in a bad way.  I bravely gave it a go and tried it in the tacos but only was able to eat it because of the taco toppings. Never bought it'), ('Beyond Meat', 'Beyond Meat from PlantBased Frozen oz lb. Package, Ground Beef Substitute, 16 Ounce', '', '10.49', '4.6', 'Kaneatha Reneau Raleigh', 'February 17, 2021', '1.0', 'Probably one of the nastiest things I have ever tasted in my life. I would not recommend AT all. No amount of seasoning or spices or sauces could mask the disgusting taste. Terrible. Simple a'), ('Beyond Meat', 'Beyond Meat from PlantBased Frozen oz lb. Package, Ground Beef Substitute, 16 Ounce', '', '10.49', '4.6', 'Amazon Customer', 'February 15, 2021', '3.0', \"This product would be amazing if a few tweaks were made.1)It smells like cat food2) Needs less flavoring3)It has to much oil.When you eat it warm it's delicious but if you eat it cold it's disgusting also burped up the flavoring for the rest of the n\"), ('Beyond Meat', 'Beyond Meat from PlantBased Frozen oz lb. Package, Ground Beef Substitute, 16 Ounce', '', '10.49', '4.6', 'KK', 'February 13, 2021', '4.0', \"It's ok, we li\"), ('Beyond Meat', 'Beyond Meat from PlantBased Frozen oz lb. Package, Ground Beef Substitute, 16 Ounce', '', '10.49', '4.6', 'Dominic', 'February 13, 2021', '1.0', 'This was my first time ordering “beyond” products and I am not sure if that is how it’s supposed to smell but it was terrible. I couldn’t even get myself to taste it. It smelled so bad even after cooking it. The expiration date was not even close so maybe I got a bad'), ('Beyond Meat', 'Beyond Meat from PlantBased Frozen oz lb. Package, Ground Beef Substitute, 16 Ounce', '', '10.49', '4.6', 'Ran Oren', 'February 10, 2021', '5.0', 'It tastes like shish kebab. We lo'), ('Beyond Meat', 'Beyond Meat from PlantBased Frozen oz lb. Package, Ground Beef Substitute, 16 Ounce', '', '10.49', '4.6', 'PA Paine', 'February 5, 2021', '4.0', 'But it\\'s vegan and the closest that I\\'ve found to real ground beef taste and texture (as I recall before becoming vegan) other than the \"Impossible\" brand.  I prefer the Impossible brand because it doesn\\'t have that smokey flavor but have only had it in sit down restaurants, not in grocery stores.  I just wish that they offered a non-smokey option.  I\\'ve purchased their burger patties several times (smokey) and had hoped that this vegan ground beef package would not be smokey.  But it was. Minus 1 star for the smokey flavor'), ('Beyond Meat', 'Beyond Meat from PlantBased Frozen oz lb. Package, Ground Beef Substitute, 16 Ounce', '', '10.49', '4.6', 'Cheryl Martin', 'February 4, 2021', '1.0', 'It’s not as good as everyone says it is. I’ve tried different brands of vegan “meat” and this one was the most off putting. Everything from the smell, to the texture and taste. I tried seasoning the taste away with everything I’ve got but it’s no use, the taste is like an oily processed -yet textured- piece of goop. Its so weird. If that’s your thing, then go for it! But take it from a person that isn’t a picky eater at all, this beyond meat is'), ('Beyond Meat', 'Beyond Meat from PlantBased Frozen oz lb. Package, Ground Beef Substitute, 16 Ounce', '', '10.49', '4.6', 'ScullyRose', 'February 3, 2021', '5.0', \"When I first got this I was quite hyped seeing the reviews and the packaging thinkng  they may have finally gotten a beef clone. After mildly cooking it I was dissapointed to taste the same taste that I tasted in another protein plant based burger that I had that is quite obviousally different than beef.I put it away and came back to it a few days later in order to fiinish it before it expires. This time I had a different experience. So what if it doesn't taste exactly like beef and you can identify the difference?  That doesn't make it better or worse. Although it has a distinct flavor, it hits the right spots and satisfies any craving youd have for it. Honestly, if all my beef, if I was stll a meat eater was changed to this, I wouldn't even care. This makes me quite optimistic of meat subsitutes which I didn't have in the past. In the past it felt like these meat subsistutes were merely there to help psychologically with the withdrawel symptoms, but honestly this makes me feel like I can have my cake and e\"), ('Beyond Meat', 'Beyond Meat from PlantBased Frozen oz lb. Package, Ground Beef Substitute, 16 Ounce', '', '10.49', '4.6', '-_-', 'February 2, 2021', '1.0', 'Oh my gosh... this is one of the worst smelling things I have EVER smelled!!!! I gagged repeatedly while trying to cook this and ended up taking it OUTSIDE to throw it away and spent the next hour trying to get the smell out of the house. Maybe it’s just me but the smell is this product is absolutely horrible and I do not re'), ('Beyond Meat', 'Beyond Meat from PlantBased Frozen oz lb. Package, Ground Beef Substitute, 16 Ounce', '', '10.49', '4.6', 'Kartik Krishnan', 'January 23, 2021', '2.0', \"My husband and I are trying to cut down on our meat intake, so I decided to try some meatless 'meat' options. I can't eat soy protein, so we went with Beyond. The smell was a bit offputting when I opened the package, but I hoped it would dissipate once cooked. The 'meat' browned somewhat, but not like regular ground. The texture was not bad, but the flavor with just salt and pepper was quite strange. My husband and I decided to make a curry with the 'meat' as we thought the strange taste/smell would be taken over by the spices. I was only partially correct. The curry did improve the flavor, but only slightly. With each bite, the strange flavor in my mouth only grew. After 4-5 small bites, I had to stop eating. My husband finished his plate, but struggled to eat his leftovers the next day. I hope in the next few years that meatless 'meat' improves. Until then, I am steering\"), ('Beyond Meat', 'Beyond Meat from PlantBased Frozen oz lb. Package, Ground Beef Substitute, 16 Ounce', '', '10.49', '4.6', 'rae', 'January 23, 2021', '5.0', \"If you don't know how to prepare ground beef then you won't know how to prepare this meatless option. Add garlic (fresh, minced or in powder) and load up on Italian Seasoning Blends and Adobo Seasonings. You can then add fresh onions, peppers and anything else that will complement this healthy meat alter\"), ('Beyond Meat', 'Beyond Meat from PlantBased Frozen oz lb. Package, Ground Beef Substitute, 16 Ounce', '', '10.49', '4.6', 'Orfound Annie', 'January 18, 2021', '5.0', 'I prefer buying this to make my own hamburgers vs. using the premade patties.My famous burgers (makes 2):8 oz Beyond Meat3/4 T dried organic oreganoSauteed sweet onions (1/2 of an onion, chopped... make sure the onion has a caramel color when you sautee).Make the onions, cool them.  Combine ingredients into patties and fry for a 4-5 minutes on each side.  Melt cheese on top (suggestions: St Andre triple cream, St Angel, or Catamount Hills cheese from the cheese section at Whole Foods).  Everyone loves these moist and flavor-packed hamb'), ('Beyond Meat', 'Beyond Meat from PlantBased Frozen oz lb. Package, Ground Beef Substitute, 16 Ounce', '', '10.49', '4.6', 'J.  Boling', 'January 14, 2021', '5.0', 'A top thre'), ('Beyond Meat', 'Beyond Meat from PlantBased Frozen oz lb. Package, Ground Beef Substitute, 16 Ounce', '', '10.49', '4.6', 'Alison123', 'January 14, 2021', '5.0', 'Goo'), ('Beyond Meat', 'Beyond Meat from PlantBased Frozen oz lb. Package, Ground Beef Substitute, 16 Ounce', '', '10.49', '4.6', 'Angelica Harlin', 'January 13, 2021', '5.0', 'If your vegan than you won’t have any problems with this if your not - you need to detoxify (takes 2 weeks to get all that dead animal out of your system) your system before your taste buds can truly appreciate what this company has done - kids love it as well - for those who talking about smelling like dog food - no way!!! I hate to think that anyone would even dare try that - I wouldn’t 🤢 ....Beyond me'), ('Beyond Meat', 'Beyond Meat from PlantBased Frozen oz lb. Package, Ground Beef Substitute, 16 Ounce', '', '10.49', '4.6', 'Sheri Rossman', 'January 4, 2021', '1.0', 'Smell'), ('Beyond Meat', 'Beyond Meat from PlantBased Frozen oz lb. Package, Ground Beef Substitute, 16 Ounce', '', '10.49', '4.6', 'KRFK', 'January 3, 2021', '3.0', 'I did not care for this. I like some of the other similar items on the market'), ('Beyond Meat', 'Beyond Meat from PlantBased Frozen oz lb. Package, Ground Beef Substitute, 16 Ounce', '', '10.49', '4.6', 'TurtleWins', 'November 24, 2020', '5.0', 'Soooo gooood especially since you can actually season this. Hate everything else after tryin'), ('Beyond Meat', 'Beyond Meat from PlantBased Frozen oz lb. Package, Ground Beef Substitute, 16 Ounce', '', '10.49', '4.6', 'john baxter', 'November 24, 2020', '4.0', \"This crumbled and cooked up in a pan very much like real ground beef and it holds its texture even in leftovers days later which is a real accomplishment for fake meat which can sometimes disintegrate after it's been cooked. I just wish there were more to say for the flavor of it. You really have to plan to season this well to make it a bit more palatable. it's hard to say what it tastes like exactly, and it doesn't have what I would call a strong taste, but it certainly doesn't taste lik\"), ('Beyond Meat', 'Beyond Meat from PlantBased Frozen oz lb. Package, Ground Beef Substitute, 16 Ounce', '', '10.49', '4.6', 'Priya P.', 'November 13, 2020', '4.0', 'Your browser does not support HTML5 video.\\n\\n\\n  \\xa0Persian kebab with beyond'), ('Beyond Meat', 'Beyond Meat from PlantBased Frozen oz lb. Package, Ground Beef Substitute, 16 Ounce', '', '10.49', '4.6', 'Hans Delbrook', 'November 11, 2020', '1.0', 'The fact that I can’t give this less than one star is tragic. Absolutely horrible from opening the package to attempting to eat to the aftertaste. There is no chance I could ever buy this again or recommend it to'), ('Beyond Meat', 'Beyond Meat from PlantBased Frozen oz lb. Package, Ground Beef Substitute, 16 Ounce', '', '10.49', '4.6', 'Elahielahe', 'November 11, 2020', '1.0', 'not cool when arrived te'), ('Beyond Meat', 'Beyond Meat from PlantBased Frozen oz lb. Package, Ground Beef Substitute, 16 Ounce', '', '10.49', '4.6', 'Justin', 'November 10, 2020', '1.0', 'This was pretty bad, I ended up throwing out the nachos I made and couldn\\'t bring myself to bring any of the leftover \"meat\". Pretty'), ('Beyond Meat', 'Beyond Meat from PlantBased Frozen oz lb. Package, Ground Beef Substitute, 16 Ounce', '', '10.49', '4.6', 'Dmendez', 'October 23, 2020', '1.0', 'Smells absolutely atrocious.  Smell lingers forever.  So many better meat alternatives tha'), ('Beyond Meat', 'Beyond Meat from PlantBased Frozen oz lb. Package, Ground Beef Substitute, 16 Ounce', '', '10.49', '4.6', 'Sergiu', 'October 22, 2020', '1.0', 'I tried....not my cup'), ('Beyond Meat', 'Beyond Meat from PlantBased Frozen oz lb. Package, Ground Beef Substitute, 16 Ounce', '', '10.49', '4.6', 'LF', 'October 19, 2020', '3.0', 'The taste and texture is similar to a burger.  So for its purpose, it is well made and pretty good  However, it smells like canned dog or cat food.  That is the first thing I noticed when I opened the package.  All in all, I prefer real beef than this pr'), ('Beyond Meat', 'Beyond Meat from PlantBased Frozen oz lb. Package, Ground Beef Substitute, 16 Ounce', '', '10.49', '4.6', 'D', 'October 14, 2020', '5.0', 'Good'), ('Beyond Meat', 'Beyond Meat from PlantBased Frozen oz lb. Package, Ground Beef Substitute, 16 Ounce', '', '10.49', '4.6', 'MN', 'October 8, 2020', '5.0', 'Nothing can BEAT Beyond Beef. N'), ('Beyond Meat', 'Beyond Meat from PlantBased Frozen oz lb. Package, Ground Beef Substitute, 16 Ounce', '', '10.49', '4.6', 'JP', 'October 5, 2020', '5.0', 'Ex')]\n"
     ]
    }
   ],
   "source": [
    "conn = sqlite3.connect(\"reviewdb.db\")\n",
    "c = conn.cursor()\n",
    "c.execute(\"SELECT * FROM scraped_reviews\")\n",
    "output = c.fetchall()\n",
    "conn.close()\n",
    "print(output)"
   ]
  }
 ],
 "metadata": {
  "kernelspec": {
   "display_name": "Python 3",
   "language": "python",
   "name": "python3"
  },
  "language_info": {
   "codemirror_mode": {
    "name": "ipython",
    "version": 3
   },
   "file_extension": ".py",
   "mimetype": "text/x-python",
   "name": "python",
   "nbconvert_exporter": "python",
   "pygments_lexer": "ipython3",
   "version": "3.7.9"
  }
 },
 "nbformat": 4,
 "nbformat_minor": 4
}
