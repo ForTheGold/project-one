{
 "cells": [
  {
   "cell_type": "code",
   "execution_count": 8,
   "metadata": {},
   "outputs": [],
   "source": [
    "import requests\n",
    "from bs4 import BeautifulSoup\n",
    "import csv\n",
    "import re\n",
    "import sqlite3"
   ]
  },
  {
   "cell_type": "code",
   "execution_count": 2,
   "metadata": {},
   "outputs": [],
   "source": [
    "headers = {'User-Agent': 'Mozilla/5.0'}\n",
    "urls = [\"https://www.reddit.com/r/DebateAVegan/comments/6xtq3v/fake_meat_products/\"]\n",
    "\n",
    "# ,\n",
    "#        \"https://www.reddit.com/r/vegan/comments/7s81qn/how_do_you_feel_about_fake_meat/\",\n",
    "#        \"https://www.reddit.com/r/vegetarian/comments/1fpvwv/best_fake_meat/\",\n",
    "#        \"https://www.reddit.com/r/vegetarian/comments/5oqulb/what_are_your_favorite_faux_meat_products_and_why/\",\n",
    "#        \"https://www.reddit.com/r/vegetarian/comments/a1u03x/any_other_vegetarians_dislike_fake_meat_products/\",\n",
    "#        \"https://www.reddit.com/r/unpopularopinion/comments/kdmtmx/fake_meat_is_dumb/\""
   ]
  },
  {
   "cell_type": "code",
   "execution_count": 3,
   "metadata": {},
   "outputs": [],
   "source": [
    "def scrape_reddit(url, headers):\n",
    "    page = requests.get(url, headers=headers)\n",
    "    soup = BeautifulSoup(page.content, 'html.parser')\n",
    "    \n",
    "    comments = soup.find_all('p')\n",
    "    clean_comments = [comment.get_text() for comment in comments if len(comment.get_text().split()) > 2]\n",
    "    \n",
    "    title = soup.find(\"h1\").get_text()\n",
    "    \n",
    "    return (title, clean_comments)\n",
    "    "
   ]
  },
  {
   "cell_type": "code",
   "execution_count": 9,
   "metadata": {},
   "outputs": [],
   "source": [
    "def write_to_db(title, clean_comments):\n",
    "    conn = sqlite3.connect(\"reviewdb.db\")\n",
    "    c = conn.cursor()\n",
    "    c.execute(\"DROP TABLE IF EXISTS reddit_thread\")\n",
    "    c.execute(\"CREATE TABLE reddit_thread ('title', 'comment')\")\n",
    "    \n",
    "    for clean_comment in clean_comments:\n",
    "        c.execute(\"INSERT INTO reddit_thread ('title', 'comment') VALUES (?, ?)\", \n",
    "                  (title, clean_comment))\n",
    "        \n",
    "    conn.commit()\n",
    "    conn.close()"
   ]
  },
  {
   "cell_type": "code",
   "execution_count": 10,
   "metadata": {},
   "outputs": [
    {
     "name": "stdout",
     "output_type": "stream",
     "text": [
      "Fake \"Meat\" products.\n",
      "['I have recently switched to a plant based diet but will never consider myself a vegan ... I still enjoy fly fishing and wear leather boots.', 'Guess my question is if eating meat is so horrible why is so much effort spent on replacing meat with other \"things\" that are suppose to taste like meat, look like meat. Which I have read countless times looks like rotting corpse.', \"Just confuses me why... I understand it's the lesser of two evils in (your) mind but why make it look like meat at all or name it after the animals it's suppose to taste like.\", 'Thank you for your submission! Some topics come up a lot in this subreddit, so we would like to remind everyone to use the search function and to check out the wiki before creating a new post.', \"When participating in a discussion, try to be as charitable as possible when replying to arguments. If an argument sounds ridiculous to you, consider that you may have misinterpreted what the author was trying to say. Ask clarifying questions if necessary. Do not attack the person you're talking to, concentrate on the argument. When possible, cite sources for your claims.\", \"There's nothing wrong with taking a break and coming back later if you feel you are getting frustrated. That said, please do participate in threads you create. People put a lot of effort into their comments, so it would be appreciated if you return the favor.\", 'I am a bot, and this action was performed automatically. Please contact the moderators of this subreddit if you have any questions or concerns.', \"Because there's nothing unethical about liking the texture or taste of meat or wanting to eat it. Only actually eating it is unethical.\", 'How else are you gonna obtain your meat?', \"For the same reason people will kill fake people in video games even though they wouldn't kill real people in real life.\", \"Err, I'd like to think that your comparison is incorrect for the majority of people.\", \"Most people have been eating meat all their life, and like the way it tastes, so the existence of 'fake' meats makes it significantly easier them to make the change. Calling them 'meat' makes it easy for people to understand what they are.\", \"I agree there's something a little disturbing about the idea... but then again not really. What's to be upset about? Vegans don't think meat itself is evil, just that the killing and exploitation are. It's not actually meat after all, who cares what it's called?\", 'Well, it normalise meat consumption.', 'Not all vegans are the same.', \"Some people prefer exclusively whole food plants.  Others, like me, don't think murder is okay but still love the taste and texture of meat.\", \"I might be a little late to the party, but here are my thoughts. Chicken nuggets, meat balls and burgers don't look like the original animals from which they're usually derived, but peple are very accustomed to eating these shapes because they're efficient to make and versatile for eating (like a patty on a burger, or a crispy nugget dipped in sauce).\", \"I don't see a problem with replicating these shapes because they are such a basic part of food preparation no matter what ingredients actually make them up.\", \"Eventually they'll just be called 'pattys' instead of 'meat-alternative pattys' but for now that label may be necessary to remind people of what they're replacing.\", 'A lot of vegans including myself love the taste of meat but reject eating it, because of the suffering of farmed animals. Fake meat cuts away the suffering part and give you some kind of product that resembles the nice taste of meat.', \"It's all about familiarity and convenience. It's hard enough to stop eating a huge portion of your diet when you decide to go veg. The frustration of simply not knowing what to eat for dinner is enough to make some people give up. Fake meats make cooking meals a lot easier since most of us already knew how to prepare something like pasta or tacos. Fake meats mean we can continue to make those meals by just changing a few ingredients. To me it's also a part of maintaining community. I can still go to cook outs and eat burgers with everyone else, mine just happen to be veggie burgers. My boyfriend and I make a Tofurkey for holidays so we're not just left with side dishes.\", 'ive been vegan for 4 years, I love the taste of meat but one day realized its fucked what has to happen so i can eat meat. thats why i like to eat fake meat products.', \"I'm a meat eater here and I would say these products confused me a lot as well\", 'A lot of \"meat\" products is made with tempeh, which doesn\\'t taste anything like meat', 'I went to many vegan/vegetarian restaurants, the veggies are ok(awesome is a more accurate term though)but the mock meat is just bad especially the fish', 'Honestly if I were to go vegan,I would rather eat only veggies than disgusting fake meat', \"I know of only one dish that has vegan/vegetarian(can't remember) meat that's actually delicious though,it's these tiny flour drumstick thingies in Malaysia that tastes really good though,if anyone can provide me the name of these things,that would be good\", \"It depends on where you live. In the US, most fake meat is made of processed soy or wheat, not fermented soy like tempeh. I've had tempeh maybe three times and found it unpleasantly bitter, but I have Gardein breakfast sausage in my freezer right now that's basically identical to pork sausage, chickpea chorizo is amazing, TVP is surprisingly delicious, and Tofurky's deli slices are comparable to meat. The textures are slightly different sometimes, but if you season your food well, it will have a meaty flavor to it and you'll hardly be able to tell the difference.\", 'An other thing people tend to forget is that these product will have their own identity in the futur. It won\\'t be \"meat substitute\" anymore but something totally unique in itself. Like, nobody says Tofu is a meat substitute, well your vegan burger won\\'t be a meat substitute as well if people stop calling it like that. Srsly, stop telling you eat fake meat.', \"And as far as I know most of the form we give to meat (except stuff like sirloin ofc) but sausage and patty were meant to put stuff together and make it edible, it's not very choking to make it out of plant, it's even saner tbh.\", 'eating meat is so horrible', 'False. The manner in which meat is obtained is horrible, the death of an animal is horrible.', 'Meat itself is tasty AF.', 'Enjoying the taste is not the issue.', 'A smoker going onto vapes, an alcaholic onto non alcaholic drinks, kinda like that? A replacement.', 'I agree. I find it strange to say \"don\\'t eat this\" but to then turn around and eat a fake version.', \"Why? One comes from a dead animal, the other from plants. So one is okay, the other not. It's about ethics, not the taste and look.\", \"Sausages and burgers are made to look desirable and tasty, the same can be said for veggie burgers. For some people that don't like a plate of greens and grains this is a good start or a normal meal. Personally I don't eat meat substitutes because I think they look and taste pretty gross and I feel I can make better than something from a package. But I accept that some people like them and incorporate them as a staple part of their diet for either convenience or nutrition reasons.\"]\n"
     ]
    }
   ],
   "source": [
    "for url in urls:\n",
    "    (title, clean_comments) = scrape_reddit(url, headers)\n",
    "    print(title)\n",
    "    print(clean_comments)\n",
    "    write_to_db(title, clean_comments)"
   ]
  },
  {
   "cell_type": "code",
   "execution_count": 11,
   "metadata": {},
   "outputs": [
    {
     "name": "stdout",
     "output_type": "stream",
     "text": [
      "[('Fake \"Meat\" products.', 'I have recently switched to a plant based diet but will never consider myself a vegan ... I still enjoy fly fishing and wear leather boots.'), ('Fake \"Meat\" products.', 'Guess my question is if eating meat is so horrible why is so much effort spent on replacing meat with other \"things\" that are suppose to taste like meat, look like meat. Which I have read countless times looks like rotting corpse.'), ('Fake \"Meat\" products.', \"Just confuses me why... I understand it's the lesser of two evils in (your) mind but why make it look like meat at all or name it after the animals it's suppose to taste like.\"), ('Fake \"Meat\" products.', 'Thank you for your submission! Some topics come up a lot in this subreddit, so we would like to remind everyone to use the search function and to check out the wiki before creating a new post.'), ('Fake \"Meat\" products.', \"When participating in a discussion, try to be as charitable as possible when replying to arguments. If an argument sounds ridiculous to you, consider that you may have misinterpreted what the author was trying to say. Ask clarifying questions if necessary. Do not attack the person you're talking to, concentrate on the argument. When possible, cite sources for your claims.\"), ('Fake \"Meat\" products.', \"There's nothing wrong with taking a break and coming back later if you feel you are getting frustrated. That said, please do participate in threads you create. People put a lot of effort into their comments, so it would be appreciated if you return the favor.\"), ('Fake \"Meat\" products.', 'I am a bot, and this action was performed automatically. Please contact the moderators of this subreddit if you have any questions or concerns.'), ('Fake \"Meat\" products.', \"Because there's nothing unethical about liking the texture or taste of meat or wanting to eat it. Only actually eating it is unethical.\"), ('Fake \"Meat\" products.', 'How else are you gonna obtain your meat?'), ('Fake \"Meat\" products.', \"For the same reason people will kill fake people in video games even though they wouldn't kill real people in real life.\"), ('Fake \"Meat\" products.', \"Err, I'd like to think that your comparison is incorrect for the majority of people.\"), ('Fake \"Meat\" products.', \"Most people have been eating meat all their life, and like the way it tastes, so the existence of 'fake' meats makes it significantly easier them to make the change. Calling them 'meat' makes it easy for people to understand what they are.\"), ('Fake \"Meat\" products.', \"I agree there's something a little disturbing about the idea... but then again not really. What's to be upset about? Vegans don't think meat itself is evil, just that the killing and exploitation are. It's not actually meat after all, who cares what it's called?\"), ('Fake \"Meat\" products.', 'Well, it normalise meat consumption.'), ('Fake \"Meat\" products.', 'Not all vegans are the same.'), ('Fake \"Meat\" products.', \"Some people prefer exclusively whole food plants.  Others, like me, don't think murder is okay but still love the taste and texture of meat.\"), ('Fake \"Meat\" products.', \"I might be a little late to the party, but here are my thoughts. Chicken nuggets, meat balls and burgers don't look like the original animals from which they're usually derived, but peple are very accustomed to eating these shapes because they're efficient to make and versatile for eating (like a patty on a burger, or a crispy nugget dipped in sauce).\"), ('Fake \"Meat\" products.', \"I don't see a problem with replicating these shapes because they are such a basic part of food preparation no matter what ingredients actually make them up.\"), ('Fake \"Meat\" products.', \"Eventually they'll just be called 'pattys' instead of 'meat-alternative pattys' but for now that label may be necessary to remind people of what they're replacing.\"), ('Fake \"Meat\" products.', 'A lot of vegans including myself love the taste of meat but reject eating it, because of the suffering of farmed animals. Fake meat cuts away the suffering part and give you some kind of product that resembles the nice taste of meat.'), ('Fake \"Meat\" products.', \"It's all about familiarity and convenience. It's hard enough to stop eating a huge portion of your diet when you decide to go veg. The frustration of simply not knowing what to eat for dinner is enough to make some people give up. Fake meats make cooking meals a lot easier since most of us already knew how to prepare something like pasta or tacos. Fake meats mean we can continue to make those meals by just changing a few ingredients. To me it's also a part of maintaining community. I can still go to cook outs and eat burgers with everyone else, mine just happen to be veggie burgers. My boyfriend and I make a Tofurkey for holidays so we're not just left with side dishes.\"), ('Fake \"Meat\" products.', 'ive been vegan for 4 years, I love the taste of meat but one day realized its fucked what has to happen so i can eat meat. thats why i like to eat fake meat products.'), ('Fake \"Meat\" products.', \"I'm a meat eater here and I would say these products confused me a lot as well\"), ('Fake \"Meat\" products.', 'A lot of \"meat\" products is made with tempeh, which doesn\\'t taste anything like meat'), ('Fake \"Meat\" products.', 'I went to many vegan/vegetarian restaurants, the veggies are ok(awesome is a more accurate term though)but the mock meat is just bad especially the fish'), ('Fake \"Meat\" products.', 'Honestly if I were to go vegan,I would rather eat only veggies than disgusting fake meat'), ('Fake \"Meat\" products.', \"I know of only one dish that has vegan/vegetarian(can't remember) meat that's actually delicious though,it's these tiny flour drumstick thingies in Malaysia that tastes really good though,if anyone can provide me the name of these things,that would be good\"), ('Fake \"Meat\" products.', \"It depends on where you live. In the US, most fake meat is made of processed soy or wheat, not fermented soy like tempeh. I've had tempeh maybe three times and found it unpleasantly bitter, but I have Gardein breakfast sausage in my freezer right now that's basically identical to pork sausage, chickpea chorizo is amazing, TVP is surprisingly delicious, and Tofurky's deli slices are comparable to meat. The textures are slightly different sometimes, but if you season your food well, it will have a meaty flavor to it and you'll hardly be able to tell the difference.\"), ('Fake \"Meat\" products.', 'An other thing people tend to forget is that these product will have their own identity in the futur. It won\\'t be \"meat substitute\" anymore but something totally unique in itself. Like, nobody says Tofu is a meat substitute, well your vegan burger won\\'t be a meat substitute as well if people stop calling it like that. Srsly, stop telling you eat fake meat.'), ('Fake \"Meat\" products.', \"And as far as I know most of the form we give to meat (except stuff like sirloin ofc) but sausage and patty were meant to put stuff together and make it edible, it's not very choking to make it out of plant, it's even saner tbh.\"), ('Fake \"Meat\" products.', 'eating meat is so horrible'), ('Fake \"Meat\" products.', 'False. The manner in which meat is obtained is horrible, the death of an animal is horrible.'), ('Fake \"Meat\" products.', 'Meat itself is tasty AF.'), ('Fake \"Meat\" products.', 'Enjoying the taste is not the issue.'), ('Fake \"Meat\" products.', 'A smoker going onto vapes, an alcaholic onto non alcaholic drinks, kinda like that? A replacement.'), ('Fake \"Meat\" products.', 'I agree. I find it strange to say \"don\\'t eat this\" but to then turn around and eat a fake version.'), ('Fake \"Meat\" products.', \"Why? One comes from a dead animal, the other from plants. So one is okay, the other not. It's about ethics, not the taste and look.\"), ('Fake \"Meat\" products.', \"Sausages and burgers are made to look desirable and tasty, the same can be said for veggie burgers. For some people that don't like a plate of greens and grains this is a good start or a normal meal. Personally I don't eat meat substitutes because I think they look and taste pretty gross and I feel I can make better than something from a package. But I accept that some people like them and incorporate them as a staple part of their diet for either convenience or nutrition reasons.\")]\n"
     ]
    }
   ],
   "source": [
    "conn = sqlite3.connect(\"reviewdb.db\")\n",
    "c = conn.cursor()\n",
    "c.execute(\"SELECT * FROM reddit_thread\")\n",
    "output = c.fetchall()\n",
    "conn.close()\n",
    "print(output)"
   ]
  }
 ],
 "metadata": {
  "kernelspec": {
   "display_name": "Python 3",
   "language": "python",
   "name": "python3"
  },
  "language_info": {
   "codemirror_mode": {
    "name": "ipython",
    "version": 3
   },
   "file_extension": ".py",
   "mimetype": "text/x-python",
   "name": "python",
   "nbconvert_exporter": "python",
   "pygments_lexer": "ipython3",
   "version": "3.7.9"
  }
 },
 "nbformat": 4,
 "nbformat_minor": 4
}
