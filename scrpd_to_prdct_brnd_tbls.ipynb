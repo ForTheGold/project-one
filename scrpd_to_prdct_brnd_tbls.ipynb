{
 "cells": [
  {
   "cell_type": "code",
   "execution_count": 6,
   "metadata": {},
   "outputs": [],
   "source": [
    "import requests\n",
    "from bs4 import BeautifulSoup\n",
    "import csv\n",
    "import re\n",
    "import sqlite3\n",
    "import os\n",
    "import time"
   ]
  },
  {
   "cell_type": "code",
   "execution_count": 2,
   "metadata": {},
   "outputs": [],
   "source": [
    "# headers = ({'User-Agent':\n",
    "#             'Mozilla/5.0 (X11; Linux x86_64) AppleWebKit/537.36 (KHTML, like Gecko) Chrome/44.0.2403.157 Safari/537.36',\n",
    "#             'Accept-Language': 'en-US, en;q=0.5'})\n",
    "headers = {\"User-Agent\":\"Mozilla/5.0 (Windows NT 10.0; Win64; x64; rv:66.0) Gecko/20100101 Firefox/66.0\", \n",
    "           \"Accept-Encoding\":\"gzip, deflate\", \n",
    "           \"Accept\":\"text/html,application/xhtml+xml,application/xml;q=0.9,*/*;q=0.8\", \n",
    "           \"DNT\":\"1\",\"Connection\":\"close\", \n",
    "           \"Upgrade-Insecure-Requests\":\"1\"}\n",
    "main_page_urls = [\"https://www.amazon.com/Beyond-Meat-Burger-PARENT-Frozen/dp/B074K5MDLW/\"]"
   ]
  },
  {
   "cell_type": "code",
   "execution_count": 3,
   "metadata": {},
   "outputs": [],
   "source": [
    "def scrape_reviews(main_page_url, headers):\n",
    "    main_page = requests.get(main_page_url, headers=headers)\n",
    "    main_page_soup = BeautifulSoup(main_page.content, 'html.parser')\n",
    "    time.sleep(2)\n",
    "\n",
    "    data = []\n",
    "    \n",
    "    try:\n",
    "        product_name = main_page_soup.find('span', {'id': 'productTitle'}).get_text().strip()\n",
    "    except Exception as e:\n",
    "        product_name = \"\"\n",
    "        print(e)\n",
    "        \n",
    "    try:\n",
    "        brand_name = main_page_soup.find('a', {'id': 'bylineInfo'}).get_text().strip()[7:]\n",
    "    except Exception as e:\n",
    "        brand_name = \"\"\n",
    "        print(e)\n",
    "    \n",
    "    try:\n",
    "        price = main_page_soup.find('span', {'class': 'priceBlockBuyingPriceString'}).get_text().strip()[1:]\n",
    "    except Exception as e:\n",
    "        price = \"\"\n",
    "        print(e)\n",
    "        \n",
    "    try:\n",
    "        asin = main_page_soup.find('ul', {'class': 'detail-bullet-list'}).findAll('li')[4].findAll('span')[2].get_text()\n",
    "    except Exception as e:\n",
    "        asin = \"\"\n",
    "        print(e)\n",
    "    \n",
    "    try:\n",
    "        overall_rating = main_page_soup.find('span', {'data-hook': 'rating-out-of-text'}).get_text()[:3]\n",
    "    except Exception as e:\n",
    "        overall_rating = \"\"\n",
    "        print(e)\n",
    "    \n",
    "    review_url_base = main_page_url[:-1].replace(\"dp\", \"product-reviews\") + \"?ie=UTF8&reviewerType=all_reviews&sortBy=recent&pageNumber=\"\n",
    "    review_urls = [review_url_base + str(i) for i in range(1, 10)]\n",
    "    \n",
    "    for review_url in review_urls:\n",
    "        review_page = requests.get(review_url, headers=headers)\n",
    "        review_page_soup = BeautifulSoup(review_page.content, 'html.parser')\n",
    "        time.sleep(2)\n",
    "        username = review_page_soup.findAll('span', {'class': 'a-profile-name'})\n",
    "        date = review_page_soup.findAll('span', {'data-hook': 'review-date'})\n",
    "        rating = review_page_soup.find_all('i', {'data-hook': 'review-star-rating'})\n",
    "        review = review_page_soup.find_all('span', {'data-hook': 'review-body'})\n",
    "        \n",
    "        for i in range(2, 8):\n",
    "            try:\n",
    "                reviewer_username = username[i].get_text()\n",
    "                review_date = date[i].get_text()[33:]\n",
    "                review_rating = rating[i].span.get_text()[:3]\n",
    "                review_text = review[i].get_text()[:-9].strip()\n",
    "\n",
    "                data.append([brand_name, product_name, asin, price, overall_rating, reviewer_username, review_date, review_rating, review_text])\n",
    "                \n",
    "            except Exception as e:\n",
    "                print(e)\n",
    "                continue\n",
    "    return data"
   ]
  },
  {
   "cell_type": "code",
   "execution_count": 23,
   "metadata": {},
   "outputs": [],
   "source": [
    "def write_to_db(data):\n",
    "    conn = sqlite3.connect(\"reviewdb.db\")\n",
    "    c = conn.cursor()\n",
    "    c.execute(\"\"\"CREATE TABLE IF NOT EXISTS brand_table('index_brand' INTEGER PRIMARY KEY AUTOINCREMENT NOT NULL, \n",
    "                                                        'name_brand' VARCHAR(100));\"\"\")\n",
    "    c.execute(\"\"\"CREATE TABLE IF NOT EXISTS product_table('index_product' INTEGER PRIMARY KEY AUTOINCREMENT NOT NULL,\n",
    "                                                        'index_brand_product' INTEGER,\n",
    "                                                        'asin_product' VARCHAR(30),\n",
    "                                                        'name_product' VARCHAR(1000), \n",
    "                                                        'price_product' FLOAT, \n",
    "                                                        'overall_rating_product' FLOAT,\n",
    "                                                        FOREIGN KEY (index_brand_product) REFERENCES brand_table (index_brand));\"\"\")\n",
    "    c.execute(\"\"\"CREATE TABLE IF NOT EXISTS review_table('index_review' INTEGER PRIMARY KEY AUTOINCREMENT NOT NULL,\n",
    "                                                        'index_product_review' INTEGER, \n",
    "                                                        'rating_review' INTEGER,\n",
    "                                                        'reviewer_id_review' VARCHAR(100), \n",
    "                                                        'date_review' VARCHAR(100), \n",
    "                                                        'text_review' VARCHAR(2000), \n",
    "                                                        'length_review' FLOAT,\n",
    "                                                        FOREIGN KEY (index_product_review) REFERENCES product_table (index_product));\"\"\")\n",
    "\n",
    "    for entry in data:\n",
    "        try:\n",
    "            c.execute(\"SELECT index_brand FROM brand_table WHERE name_brand == `\" + entry[0] + \"`;\")\n",
    "            index_brand=c.fetchall()\n",
    "        \n",
    "        except:\n",
    "            c.execute(\"INSERT INTO brand_table VALUES (`\" + entry[0] + \"`)\")\n",
    "            c.execute(\"SELECT index_brand FROM brand_table WHERE name_brand == `\" + entry[0] + \"`;\")\n",
    "            index_brand=c.fetchall()\n",
    "        \n",
    "        c.execute(\"SELECT index_product FROM product_table WHERE asin_product == \" + entry[2] + \";\")\n",
    "        index_product=c.fetchall()\n",
    "        if index_product == None:\n",
    "            c.execute(\"\"\"INSERT INTO product_table ('index_brand_product',\n",
    "                                                        'asin_product',\n",
    "                                                        'name_product', \n",
    "                                                        'price_product', \n",
    "                                                        'overall_rating_product') VALUES (?, ?, ?, ?, ?);\"\"\",\n",
    "            (index_brand, entry[2], entry[1], float(entry[3]), float(entry[4])))\n",
    "            c.execute(\"SELECT index_product FROM product_table WHERE asin_product == \" + entry[2] + \";\")\n",
    "            index_product=c.fetchall()\n",
    "        \n",
    "        c.execute(\"\"\"INSERT INTO review_table ('index_product_review', \n",
    "                                                        'rating_review',\n",
    "                                                        'reviewer_id_review', \n",
    "                                                        'date_review', \n",
    "                                                        'text_review', \n",
    "                                                        'length_review') VALUES (?, ?, ?, ?, ?, ?);\"\"\", \n",
    "        (index_product, int(entry[7]), entry[5], entry[6], entry[8], len(entry[8].split(\" \"))))\n",
    "\n",
    "    conn.commit()\n",
    "    conn.close()"
   ]
  },
  {
   "cell_type": "code",
   "execution_count": 7,
   "metadata": {},
   "outputs": [],
   "source": [
    "data = scrape_reviews(main_page_urls[0], headers)    "
   ]
  },
  {
   "cell_type": "code",
   "execution_count": 24,
   "metadata": {},
   "outputs": [
    {
     "ename": "OperationalError",
     "evalue": "no such column: Beyond Meat",
     "output_type": "error",
     "traceback": [
      "\u001b[1;31m---------------------------------------------------------------------------\u001b[0m",
      "\u001b[1;31mOperationalError\u001b[0m                          Traceback (most recent call last)",
      "\u001b[1;32m<ipython-input-23-777f419c1615>\u001b[0m in \u001b[0;36mwrite_to_db\u001b[1;34m(data)\u001b[0m\n\u001b[0;32m     23\u001b[0m         \u001b[1;32mtry\u001b[0m\u001b[1;33m:\u001b[0m\u001b[1;33m\u001b[0m\u001b[1;33m\u001b[0m\u001b[0m\n\u001b[1;32m---> 24\u001b[1;33m             \u001b[0mc\u001b[0m\u001b[1;33m.\u001b[0m\u001b[0mexecute\u001b[0m\u001b[1;33m(\u001b[0m\u001b[1;34m\"SELECT index_brand FROM brand_table WHERE name_brand == `\"\u001b[0m \u001b[1;33m+\u001b[0m \u001b[0mentry\u001b[0m\u001b[1;33m[\u001b[0m\u001b[1;36m0\u001b[0m\u001b[1;33m]\u001b[0m \u001b[1;33m+\u001b[0m \u001b[1;34m\"`;\"\u001b[0m\u001b[1;33m)\u001b[0m\u001b[1;33m\u001b[0m\u001b[1;33m\u001b[0m\u001b[0m\n\u001b[0m\u001b[0;32m     25\u001b[0m             \u001b[0mindex_brand\u001b[0m\u001b[1;33m=\u001b[0m\u001b[0mc\u001b[0m\u001b[1;33m.\u001b[0m\u001b[0mfetchall\u001b[0m\u001b[1;33m(\u001b[0m\u001b[1;33m)\u001b[0m\u001b[1;33m\u001b[0m\u001b[1;33m\u001b[0m\u001b[0m\n",
      "\u001b[1;31mOperationalError\u001b[0m: no such column: Beyond Meat",
      "\nDuring handling of the above exception, another exception occurred:\n",
      "\u001b[1;31mOperationalError\u001b[0m                          Traceback (most recent call last)",
      "\u001b[1;32m<ipython-input-24-93e6ef50c73d>\u001b[0m in \u001b[0;36m<module>\u001b[1;34m\u001b[0m\n\u001b[1;32m----> 1\u001b[1;33m \u001b[0mwrite_to_db\u001b[0m\u001b[1;33m(\u001b[0m\u001b[0mdata\u001b[0m\u001b[1;33m)\u001b[0m\u001b[1;33m\u001b[0m\u001b[1;33m\u001b[0m\u001b[0m\n\u001b[0m",
      "\u001b[1;32m<ipython-input-23-777f419c1615>\u001b[0m in \u001b[0;36mwrite_to_db\u001b[1;34m(data)\u001b[0m\n\u001b[0;32m     26\u001b[0m \u001b[1;33m\u001b[0m\u001b[0m\n\u001b[0;32m     27\u001b[0m         \u001b[1;32mexcept\u001b[0m\u001b[1;33m:\u001b[0m\u001b[1;33m\u001b[0m\u001b[1;33m\u001b[0m\u001b[0m\n\u001b[1;32m---> 28\u001b[1;33m             \u001b[0mc\u001b[0m\u001b[1;33m.\u001b[0m\u001b[0mexecute\u001b[0m\u001b[1;33m(\u001b[0m\u001b[1;34m\"INSERT INTO brand_table VALUES (`\"\u001b[0m \u001b[1;33m+\u001b[0m \u001b[0mentry\u001b[0m\u001b[1;33m[\u001b[0m\u001b[1;36m0\u001b[0m\u001b[1;33m]\u001b[0m \u001b[1;33m+\u001b[0m \u001b[1;34m\"`)\"\u001b[0m\u001b[1;33m)\u001b[0m\u001b[1;33m\u001b[0m\u001b[1;33m\u001b[0m\u001b[0m\n\u001b[0m\u001b[0;32m     29\u001b[0m             \u001b[0mc\u001b[0m\u001b[1;33m.\u001b[0m\u001b[0mexecute\u001b[0m\u001b[1;33m(\u001b[0m\u001b[1;34m\"SELECT index_brand FROM brand_table WHERE name_brand == `\"\u001b[0m \u001b[1;33m+\u001b[0m \u001b[0mentry\u001b[0m\u001b[1;33m[\u001b[0m\u001b[1;36m0\u001b[0m\u001b[1;33m]\u001b[0m \u001b[1;33m+\u001b[0m \u001b[1;34m\"`;\"\u001b[0m\u001b[1;33m)\u001b[0m\u001b[1;33m\u001b[0m\u001b[1;33m\u001b[0m\u001b[0m\n\u001b[0;32m     30\u001b[0m             \u001b[0mindex_brand\u001b[0m\u001b[1;33m=\u001b[0m\u001b[0mc\u001b[0m\u001b[1;33m.\u001b[0m\u001b[0mfetchall\u001b[0m\u001b[1;33m(\u001b[0m\u001b[1;33m)\u001b[0m\u001b[1;33m\u001b[0m\u001b[1;33m\u001b[0m\u001b[0m\n",
      "\u001b[1;31mOperationalError\u001b[0m: no such column: Beyond Meat"
     ]
    }
   ],
   "source": [
    "write_to_db(data)"
   ]
  },
  {
   "cell_type": "code",
   "execution_count": null,
   "metadata": {},
   "outputs": [],
   "source": [
    "conn = sqlite3.connect(\"reviewdb.db\")\n",
    "c = conn.cursor()\n",
    "c.execute(\"SELECT * FROM product_table\")\n",
    "output = c.fetchall()\n",
    "conn.close()\n",
    "print(output)"
   ]
  }
 ],
 "metadata": {
  "kernelspec": {
   "display_name": "Python 3",
   "language": "python",
   "name": "python3"
  },
  "language_info": {
   "codemirror_mode": {
    "name": "ipython",
    "version": 3
   },
   "file_extension": ".py",
   "mimetype": "text/x-python",
   "name": "python",
   "nbconvert_exporter": "python",
   "pygments_lexer": "ipython3",
   "version": "3.7.10"
  }
 },
 "nbformat": 4,
 "nbformat_minor": 4
}
